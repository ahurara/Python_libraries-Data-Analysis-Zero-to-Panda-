{
  "nbformat": 4,
  "nbformat_minor": 0,
  "metadata": {
    "colab": {
      "provenance": [],
      "authorship_tag": "ABX9TyPscw9ZBB1YoZcdkBPAWfh8",
      "include_colab_link": true
    },
    "kernelspec": {
      "name": "python3",
      "display_name": "Python 3"
    },
    "language_info": {
      "name": "python"
    }
  },
  "cells": [
    {
      "cell_type": "markdown",
      "metadata": {
        "id": "view-in-github",
        "colab_type": "text"
      },
      "source": [
        "<a href=\"https://colab.research.google.com/github/ahurara/Project/blob/main/python_numpy.ipynb\" target=\"_parent\"><img src=\"https://colab.research.google.com/assets/colab-badge.svg\" alt=\"Open In Colab\"/></a>"
      ]
    },
    {
      "cell_type": "code",
      "execution_count": null,
      "metadata": {
        "id": "ZtBuk2HBLqHt"
      },
      "outputs": [],
      "source": [
        "import numpy as np\n"
      ]
    },
    {
      "cell_type": "code",
      "source": [
        "w1, w2, w3 = 0.3, 0.2, 0.5\n",
        "\n",
        "kanto = np.array([73,67,43])\n",
        "kanto"
      ],
      "metadata": {
        "colab": {
          "base_uri": "https://localhost:8080/"
        },
        "id": "dQy9p8tjL2mN",
        "outputId": "90f8f4ca-c2e1-4357-aeea-c529ffea0835"
      },
      "execution_count": null,
      "outputs": [
        {
          "output_type": "execute_result",
          "data": {
            "text/plain": [
              "array([73, 67, 43])"
            ]
          },
          "metadata": {},
          "execution_count": 6
        }
      ]
    },
    {
      "cell_type": "code",
      "source": [
        "weights = np.array([w1,w2,w3])\n",
        "weights"
      ],
      "metadata": {
        "colab": {
          "base_uri": "https://localhost:8080/"
        },
        "id": "wsZbpJEsMv5X",
        "outputId": "3ee174d7-3d73-41d8-9e3f-8087b7055b98"
      },
      "execution_count": null,
      "outputs": [
        {
          "output_type": "execute_result",
          "data": {
            "text/plain": [
              "array([0.3, 0.2, 0.5])"
            ]
          },
          "metadata": {},
          "execution_count": 7
        }
      ]
    },
    {
      "cell_type": "code",
      "source": [
        "np.dot(kanto,weights)"
      ],
      "metadata": {
        "colab": {
          "base_uri": "https://localhost:8080/"
        },
        "id": "EBMITHiINZMG",
        "outputId": "75e203c7-68da-48f3-9e59-0da487645ecb"
      },
      "execution_count": null,
      "outputs": [
        {
          "output_type": "execute_result",
          "data": {
            "text/plain": [
              "56.8"
            ]
          },
          "metadata": {},
          "execution_count": 8
        }
      ]
    },
    {
      "cell_type": "code",
      "source": [
        "climate_data = np.array([[73, 67, 43],\n",
        "                         [91, 88, 64],\n",
        "                         [87, 134, 58],\n",
        "                         [102, 43, 37],\n",
        "                         [69, 96, 70]])\n",
        "\n",
        "climate_data.shape"
      ],
      "metadata": {
        "colab": {
          "base_uri": "https://localhost:8080/"
        },
        "id": "mhimHtvsPN9j",
        "outputId": "a6c2935f-66b7-4c81-b121-2842aa453a12"
      },
      "execution_count": null,
      "outputs": [
        {
          "output_type": "execute_result",
          "data": {
            "text/plain": [
              "(5, 3)"
            ]
          },
          "metadata": {},
          "execution_count": 9
        }
      ]
    },
    {
      "cell_type": "code",
      "source": [
        "np.matmul(climate_data,weights)"
      ],
      "metadata": {
        "colab": {
          "base_uri": "https://localhost:8080/"
        },
        "id": "q0wnnBavQ8En",
        "outputId": "4350138d-4bec-4f1b-86d0-51988ec9ad76"
      },
      "execution_count": null,
      "outputs": [
        {
          "output_type": "execute_result",
          "data": {
            "text/plain": [
              "array([56.8, 76.9, 81.9, 57.7, 74.9])"
            ]
          },
          "metadata": {},
          "execution_count": 10
        }
      ]
    },
    {
      "cell_type": "code",
      "source": [
        "climate_data @ weights"
      ],
      "metadata": {
        "colab": {
          "base_uri": "https://localhost:8080/"
        },
        "id": "LPBabsRLRDf5",
        "outputId": "baa5d257-feff-4f9a-9082-c97fae6dd773"
      },
      "execution_count": null,
      "outputs": [
        {
          "output_type": "execute_result",
          "data": {
            "text/plain": [
              "array([56.8, 76.9, 81.9, 57.7, 74.9])"
            ]
          },
          "metadata": {},
          "execution_count": 11
        }
      ]
    },
    {
      "cell_type": "markdown",
      "source": [
        "## **working with a csv file**"
      ],
      "metadata": {
        "id": "wRM56GndSjsX"
      }
    },
    {
      "cell_type": "code",
      "source": [
        "import urllib.request"
      ],
      "metadata": {
        "id": "Jx5AA6klSrP-"
      },
      "execution_count": null,
      "outputs": []
    },
    {
      "cell_type": "code",
      "source": [
        "urllib.request.urlretrieve(\n",
        "    'https://gist.github.com/BirajCoder/a4ffcb76fd6fb221d76ac2ee2b8584e9/raw/4054f90adfd361b7aa4255e99c2e874664094cea/climate.csv', \n",
        "    'climate.txt')"
      ],
      "metadata": {
        "colab": {
          "base_uri": "https://localhost:8080/"
        },
        "id": "-6750eFCS2Wg",
        "outputId": "c54534cf-4eb2-402d-a3c2-ee3f543f733f"
      },
      "execution_count": null,
      "outputs": [
        {
          "output_type": "execute_result",
          "data": {
            "text/plain": [
              "('climate.txt', <http.client.HTTPMessage at 0x7fc74f02a920>)"
            ]
          },
          "metadata": {},
          "execution_count": 13
        }
      ]
    },
    {
      "cell_type": "code",
      "source": [
        "climate_data =np.genfromtxt(\"climate.txt\",delimiter=',',skip_header=1)\n",
        "climate_data"
      ],
      "metadata": {
        "colab": {
          "base_uri": "https://localhost:8080/"
        },
        "id": "ccJ8yTzJTHPB",
        "outputId": "06baa6ba-f1f5-40f6-d013-f5183a193ccd"
      },
      "execution_count": null,
      "outputs": [
        {
          "output_type": "execute_result",
          "data": {
            "text/plain": [
              "array([[25., 76., 99.],\n",
              "       [39., 65., 70.],\n",
              "       [59., 45., 77.],\n",
              "       ...,\n",
              "       [99., 62., 58.],\n",
              "       [70., 71., 91.],\n",
              "       [92., 39., 76.]])"
            ]
          },
          "metadata": {},
          "execution_count": 14
        }
      ]
    },
    {
      "cell_type": "code",
      "source": [
        "weights =np.array([.3,.2,.5])\n",
        "yields =climate_data @ weights\n",
        "yields"
      ],
      "metadata": {
        "colab": {
          "base_uri": "https://localhost:8080/"
        },
        "id": "O1MxgxKqUYcE",
        "outputId": "ec426a7f-fdfc-4f03-d701-6e4e4f2b3b41"
      },
      "execution_count": null,
      "outputs": [
        {
          "output_type": "execute_result",
          "data": {
            "text/plain": [
              "array([72.2, 59.7, 65.2, ..., 71.1, 80.7, 73.4])"
            ]
          },
          "metadata": {},
          "execution_count": 15
        }
      ]
    },
    {
      "cell_type": "code",
      "source": [
        "yields.shape"
      ],
      "metadata": {
        "colab": {
          "base_uri": "https://localhost:8080/"
        },
        "id": "w9iLfhQIUvJC",
        "outputId": "5bd94c3f-1b4f-4bb0-faa1-543dcebf3655"
      },
      "execution_count": null,
      "outputs": [
        {
          "output_type": "execute_result",
          "data": {
            "text/plain": [
              "(10000,)"
            ]
          },
          "metadata": {},
          "execution_count": 19
        }
      ]
    },
    {
      "cell_type": "code",
      "source": [
        "climate_result =np.concatenate((climate_data,yields.reshape(10000,1)),axis=1)\n",
        "climate_result"
      ],
      "metadata": {
        "colab": {
          "base_uri": "https://localhost:8080/"
        },
        "id": "PMVoQhNLVbRA",
        "outputId": "38262d1b-20b9-4878-8910-f6bf656f30ce"
      },
      "execution_count": null,
      "outputs": [
        {
          "output_type": "execute_result",
          "data": {
            "text/plain": [
              "array([[25. , 76. , 99. , 72.2],\n",
              "       [39. , 65. , 70. , 59.7],\n",
              "       [59. , 45. , 77. , 65.2],\n",
              "       ...,\n",
              "       [99. , 62. , 58. , 71.1],\n",
              "       [70. , 71. , 91. , 80.7],\n",
              "       [92. , 39. , 76. , 73.4]])"
            ]
          },
          "metadata": {},
          "execution_count": 16
        }
      ]
    },
    {
      "cell_type": "code",
      "source": [
        "np.savetxt(\n",
        "    \"climate_result.txt\",\n",
        "    climate_result,\n",
        "      fmt='%.2f', \n",
        "    delimiter=',',\n",
        "    header='temperature,rainfall,humidity,yeild_apples', \n",
        "    comments=''\n",
        ")"
      ],
      "metadata": {
        "id": "BHnvEtRhaoWP"
      },
      "execution_count": null,
      "outputs": []
    },
    {
      "cell_type": "code",
      "source": [
        "arr3 = np.array([\n",
        "    [[11, 12, 13, 14], \n",
        "     [13, 14, 15, 19]], \n",
        "    \n",
        "    [[15, 16, 17, 21], \n",
        "     [63, 92, 36, 18]], \n",
        "    \n",
        "    [[98, 32, 81, 23],      \n",
        "     [17, 18, 19.5, 43]]])\n",
        "arr3.shape"
      ],
      "metadata": {
        "id": "EpudULRmcdOZ",
        "colab": {
          "base_uri": "https://localhost:8080/"
        },
        "outputId": "66663aa4-aad7-46ff-f2e6-c7bff0e75e73"
      },
      "execution_count": null,
      "outputs": [
        {
          "output_type": "execute_result",
          "data": {
            "text/plain": [
              "(3, 2, 4)"
            ]
          },
          "metadata": {},
          "execution_count": 3
        }
      ]
    },
    {
      "cell_type": "code",
      "source": [
        "ar2=np.zeros((4,2))\n",
        "ar2"
      ],
      "metadata": {
        "colab": {
          "base_uri": "https://localhost:8080/"
        },
        "id": "0NBWq3eDfyx2",
        "outputId": "58e389ea-7fec-421f-c25d-16662d9fff4a"
      },
      "execution_count": null,
      "outputs": [
        {
          "output_type": "execute_result",
          "data": {
            "text/plain": [
              "array([[0., 0.],\n",
              "       [0., 0.],\n",
              "       [0., 0.],\n",
              "       [0., 0.]])"
            ]
          },
          "metadata": {},
          "execution_count": 7
        }
      ]
    }
  ]
}